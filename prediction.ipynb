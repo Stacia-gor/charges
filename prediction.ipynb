{
 "cells": [
  {
   "cell_type": "markdown",
   "metadata": {},
   "source": [
    " '''\n",
    "Steps:\n",
    "1. I transformed all string values (columns \"sex\", ''smoke'', ''region'') into numeric ones and dropped strings with null values (nothing changed).\n",
    "2. To see the correlation between values I used corr() function.\n",
    "3. To predict the charges I defined x and y values. Y ('charges') is our goal that we need to predict, x - others values in dataset.\n",
    "4. I divided our dataset on train and test parts in dimension 70/30.\n",
    "5. Train part I used to train models and test part is for predictions and evaluation the quality of model.\n",
    "6. As model I used 4 regression functions from sklearn: LinearRegression, Ridge, GradientBoostingRegressor, RandomForestRegressor.\n",
    "7. The quality of model I evaluated using R2 score.\n",
    "\n",
    "Some conclusions:\n",
    "1. GradientBoostingRegressor model is the best, its quality is 86,61%\n",
    "2. The biggest impact on prediction has the fact if a person is smoker or not. Factors 'age' and 'smoker' together have the biggest impact on charges.\n",
    "'''\n"
   ]
  },
  {
   "cell_type": "code",
   "execution_count": 1,
   "metadata": {},
   "outputs": [
    {
     "data": {
      "text/html": [
       "<div>\n",
       "<style scoped>\n",
       "    .dataframe tbody tr th:only-of-type {\n",
       "        vertical-align: middle;\n",
       "    }\n",
       "\n",
       "    .dataframe tbody tr th {\n",
       "        vertical-align: top;\n",
       "    }\n",
       "\n",
       "    .dataframe thead th {\n",
       "        text-align: right;\n",
       "    }\n",
       "</style>\n",
       "<table border=\"1\" class=\"dataframe\">\n",
       "  <thead>\n",
       "    <tr style=\"text-align: right;\">\n",
       "      <th></th>\n",
       "      <th>age</th>\n",
       "      <th>sex</th>\n",
       "      <th>bmi</th>\n",
       "      <th>children</th>\n",
       "      <th>smoker</th>\n",
       "      <th>region</th>\n",
       "      <th>charges</th>\n",
       "    </tr>\n",
       "  </thead>\n",
       "  <tbody>\n",
       "    <tr>\n",
       "      <td>age</td>\n",
       "      <td>1.000000</td>\n",
       "      <td>0.020856</td>\n",
       "      <td>0.109272</td>\n",
       "      <td>0.042469</td>\n",
       "      <td>-0.025019</td>\n",
       "      <td>-0.002613</td>\n",
       "      <td>0.299008</td>\n",
       "    </tr>\n",
       "    <tr>\n",
       "      <td>sex</td>\n",
       "      <td>0.020856</td>\n",
       "      <td>1.000000</td>\n",
       "      <td>-0.046371</td>\n",
       "      <td>-0.017163</td>\n",
       "      <td>-0.076185</td>\n",
       "      <td>-0.009346</td>\n",
       "      <td>-0.057292</td>\n",
       "    </tr>\n",
       "    <tr>\n",
       "      <td>bmi</td>\n",
       "      <td>0.109272</td>\n",
       "      <td>-0.046371</td>\n",
       "      <td>1.000000</td>\n",
       "      <td>0.012759</td>\n",
       "      <td>0.003750</td>\n",
       "      <td>0.054428</td>\n",
       "      <td>0.198341</td>\n",
       "    </tr>\n",
       "    <tr>\n",
       "      <td>children</td>\n",
       "      <td>0.042469</td>\n",
       "      <td>-0.017163</td>\n",
       "      <td>0.012759</td>\n",
       "      <td>1.000000</td>\n",
       "      <td>0.007673</td>\n",
       "      <td>-0.036617</td>\n",
       "      <td>0.067998</td>\n",
       "    </tr>\n",
       "    <tr>\n",
       "      <td>smoker</td>\n",
       "      <td>-0.025019</td>\n",
       "      <td>-0.076185</td>\n",
       "      <td>0.003750</td>\n",
       "      <td>0.007673</td>\n",
       "      <td>1.000000</td>\n",
       "      <td>0.044124</td>\n",
       "      <td>0.787251</td>\n",
       "    </tr>\n",
       "    <tr>\n",
       "      <td>region</td>\n",
       "      <td>-0.002613</td>\n",
       "      <td>-0.009346</td>\n",
       "      <td>0.054428</td>\n",
       "      <td>-0.036617</td>\n",
       "      <td>0.044124</td>\n",
       "      <td>1.000000</td>\n",
       "      <td>0.050226</td>\n",
       "    </tr>\n",
       "    <tr>\n",
       "      <td>charges</td>\n",
       "      <td>0.299008</td>\n",
       "      <td>-0.057292</td>\n",
       "      <td>0.198341</td>\n",
       "      <td>0.067998</td>\n",
       "      <td>0.787251</td>\n",
       "      <td>0.050226</td>\n",
       "      <td>1.000000</td>\n",
       "    </tr>\n",
       "  </tbody>\n",
       "</table>\n",
       "</div>"
      ],
      "text/plain": [
       "               age       sex       bmi  children    smoker    region   charges\n",
       "age       1.000000  0.020856  0.109272  0.042469 -0.025019 -0.002613  0.299008\n",
       "sex       0.020856  1.000000 -0.046371 -0.017163 -0.076185 -0.009346 -0.057292\n",
       "bmi       0.109272 -0.046371  1.000000  0.012759  0.003750  0.054428  0.198341\n",
       "children  0.042469 -0.017163  0.012759  1.000000  0.007673 -0.036617  0.067998\n",
       "smoker   -0.025019 -0.076185  0.003750  0.007673  1.000000  0.044124  0.787251\n",
       "region   -0.002613 -0.009346  0.054428 -0.036617  0.044124  1.000000  0.050226\n",
       "charges   0.299008 -0.057292  0.198341  0.067998  0.787251  0.050226  1.000000"
      ]
     },
     "execution_count": 1,
     "metadata": {},
     "output_type": "execute_result"
    }
   ],
   "source": [
    "import pandas as pd\n",
    "import matplotlib.pyplot as plt\n",
    "import numpy as np\n",
    "\n",
    "from sklearn.model_selection import train_test_split\n",
    "from sklearn.linear_model import LinearRegression, Ridge\n",
    "from sklearn.ensemble import GradientBoostingRegressor, RandomForestRegressor\n",
    "from sklearn.metrics import r2_score\n",
    " \n",
    "data = pd.read_csv('E:\\Новая папка\\ds_internship_task\\insurance.csv')\n",
    "\n",
    "data.loc[data.sex=='male','sex']=0\n",
    "data.loc[data.sex=='female','sex']=1\n",
    "data.loc[data.smoker=='yes','smoker']=1\n",
    "data.loc[data.smoker=='no','smoker']=0\n",
    "data.loc[data.region=='southwest','region']=1\n",
    "data.loc[data.region=='northwest','region']=0\n",
    "data.loc[data.region=='southeast','region']=2\n",
    "data.loc[data.region=='northeast','region']=3\n",
    "data.dropna()\n",
    "\n",
    "data.corr()"
   ]
  },
  {
   "cell_type": "code",
   "execution_count": 18,
   "metadata": {},
   "outputs": [
    {
     "name": "stderr",
     "output_type": "stream",
     "text": [
      "E:\\Python2\\lib\\site-packages\\sklearn\\ensemble\\forest.py:245: FutureWarning: The default value of n_estimators will change from 10 in version 0.20 to 100 in 0.22.\n",
      "  \"10 in version 0.20 to 100 in 0.22.\", FutureWarning)\n"
     ]
    },
    {
     "data": {
      "text/plain": [
       "[0.8660674929081995,\n",
       " 0.7596067878882117,\n",
       " 0.8493059341878695,\n",
       " 0.7588719683693892]"
      ]
     },
     "execution_count": 18,
     "metadata": {},
     "output_type": "execute_result"
    }
   ],
   "source": [
    "y = np.array(data.charges)\n",
    "x = np.array(data.iloc[:,:6])\n",
    " \n",
    " \n",
    "x_train, x_test, y_train,y_test = train_test_split (x,y,test_size = 0.30, random_state = 241)\n",
    "\n",
    "models = [GradientBoostingRegressor(), LinearRegression(), RandomForestRegressor(),Ridge()]\n",
    "results = []\n",
    "for i in models:\n",
    "  clf = i\n",
    "  clf.fit(x_train,y_train)\n",
    "  r2 = r2_score(y_test, clf.predict(x_test))\n",
    "  results.append(r2)\n",
    "results"
   ]
  },
  {
   "cell_type": "code",
   "execution_count": 19,
   "metadata": {},
   "outputs": [
    {
     "data": {
      "text/plain": [
       "Text(0, 0.5, 'quality')"
      ]
     },
     "execution_count": 19,
     "metadata": {},
     "output_type": "execute_result"
    },
    {
     "data": {
      "image/png": "[encoded data removed]",
      "text/plain": [
       "<Figure size 648x432 with 1 Axes>"
      ]
     },
     "metadata": {
      "needs_background": "light"
     },
     "output_type": "display_data"
    }
   ],
   "source": [
    "y_1 = results\n",
    "x_1 = ['GradientBoostingRegressor','LinearRegression','RandomForestRegressor','Ridge']\n",
    "plt.figure(figsize=(9,6))\n",
    "plt.bar(x_1,y_1)\n",
    "plt.title ('Quality of models', fontsize = 25)\n",
    "plt.xlabel('model', fontsize = 15)\n",
    "plt.ylabel('quality',fontsize = 15)"
   ]
  },
  {
   "cell_type": "code",
   "execution_count": 20,
   "metadata": {},
   "outputs": [
    {
     "data": {
      "text/plain": [
       "array([0.12976238, 0.00067579, 0.20042831, 0.01056383, 0.65404983,\n",
       "       0.00451986])"
      ]
     },
     "execution_count": 20,
     "metadata": {},
     "output_type": "execute_result"
    }
   ],
   "source": [
    "best_clf = GradientBoostingRegressor(random_state = 200)\n",
    "best_clf.fit(x_train,y_train)\n",
    "best_clf.feature_importances_ # showes the weights of each factor "
   ]
  }
 ],
 "metadata": {
  "kernelspec": {
   "display_name": "Python 3",
   "language": "python",
   "name": "python3"
  },
  "language_info": {
   "codemirror_mode": {
    "name": "ipython",
    "version": 3
   },
   "file_extension": ".py",
   "mimetype": "text/x-python",
   "name": "python",
   "nbconvert_exporter": "python",
   "pygments_lexer": "ipython3",
   "version": "3.7.4"
  }
 },
 "nbformat": 4,
 "nbformat_minor": 2
}
